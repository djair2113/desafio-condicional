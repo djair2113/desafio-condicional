{
  "nbformat": 4,
  "nbformat_minor": 0,
  "metadata": {
    "colab": {
      "provenance": [],
      "authorship_tag": "ABX9TyNJxoBxK5OMTIOM4WhILyhY",
      "include_colab_link": true
    },
    "kernelspec": {
      "name": "python3",
      "display_name": "Python 3"
    },
    "language_info": {
      "name": "python"
    }
  },
  "cells": [
    {
      "cell_type": "markdown",
      "metadata": {
        "id": "view-in-github",
        "colab_type": "text"
      },
      "source": [
        "<a href=\"https://colab.research.google.com/github/djair2113/desafio-condicional/blob/main/Atividade_condicional.ipynb\" target=\"_parent\"><img src=\"https://colab.research.google.com/assets/colab-badge.svg\" alt=\"Open In Colab\"/></a>"
      ]
    },
    {
      "cell_type": "code",
      "execution_count": 18,
      "metadata": {
        "colab": {
          "base_uri": "https://localhost:8080/"
        },
        "id": "BrXco9s9LnuI",
        "outputId": "f8e8fb67-2976-4f41-e0d4-59e74e80e030"
      },
      "outputs": [
        {
          "output_type": "stream",
          "name": "stdout",
          "text": [
            "Crie condicao onde a pessoa entre com 4 notas tire a média da pessoa \n",
            " e fale se ela foi, Aprovada,esta em Recuperação ou foi Reprovada\n",
            "Digite o nome do Aluno:isac\n",
            "Digite a primeira nota:9\n",
            "Digite a segunda nota:6\n",
            "Digite a terceira nota:9\n",
            "Digite a quarta nota:9\n",
            "A média final do Aluno: isac é 8.25\n",
            "Aprovado! Você conseguiu Parabéns\n"
          ]
        }
      ],
      "source": [
        "print('Crie condicao onde a pessoa entre com 4 notas tire a média da pessoa',\"\\n\",\n",
        "'e fale se ela foi, Aprovada,esta em Recuperação ou foi Reprovada'\n",
        ")\n",
        "aluno = str(input('Digite o nome do Aluno:'))\n",
        "n1 = float(input('Digite a primeira nota:'))\n",
        "n2 = float(input('Digite a segunda nota:'))\n",
        "n3 = float(input('Digite a terceira nota:'))\n",
        "n4 = float(input('Digite a quarta nota:'))\n",
        "media = (n1 + n2 + n3 + n4) / 4\n",
        "print('A média final do Aluno:',aluno,'é',media)\n",
        "\n",
        "if media <= 4.99:\n",
        "    print('Reprovado!','Não desista na proxima você consegue!')\n",
        "\n",
        "elif media <= 6.9:\n",
        "      print('Recuperação!','Esta quase lá! estude mais um pouco!')\n",
        "\n",
        "else:\n",
        "    print('Aprovado!','Você conseguiu','Parabéns')\n",
        "\n"
      ]
    }
  ]
}